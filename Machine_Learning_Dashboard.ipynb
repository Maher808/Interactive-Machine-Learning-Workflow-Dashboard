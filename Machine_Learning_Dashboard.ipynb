{
  "nbformat": 4,
  "nbformat_minor": 0,
  "metadata": {
    "colab": {
      "provenance": []
    },
    "kernelspec": {
      "name": "python3",
      "display_name": "Python 3"
    },
    "language_info": {
      "name": "python"
    }
  },
  "cells": [
    {
      "cell_type": "code",
      "source": [
        "pip install lime streamlit pyngrok prophet"
      ],
      "metadata": {
        "colab": {
          "base_uri": "https://localhost:8080/"
        },
        "id": "aL2rPDS9Jwlo",
        "outputId": "ef24face-0632-4961-f8c1-178f952ce8aa"
      },
      "execution_count": 28,
      "outputs": [
        {
          "output_type": "stream",
          "name": "stdout",
          "text": [
            "Requirement already satisfied: lime in /usr/local/lib/python3.10/dist-packages (0.2.0.1)\n",
            "Requirement already satisfied: streamlit in /usr/local/lib/python3.10/dist-packages (1.40.1)\n",
            "Requirement already satisfied: pyngrok in /usr/local/lib/python3.10/dist-packages (7.2.1)\n",
            "Requirement already satisfied: prophet in /usr/local/lib/python3.10/dist-packages (1.1.6)\n",
            "Requirement already satisfied: matplotlib in /usr/local/lib/python3.10/dist-packages (from lime) (3.8.0)\n",
            "Requirement already satisfied: numpy in /usr/local/lib/python3.10/dist-packages (from lime) (1.26.4)\n",
            "Requirement already satisfied: scipy in /usr/local/lib/python3.10/dist-packages (from lime) (1.13.1)\n",
            "Requirement already satisfied: tqdm in /usr/local/lib/python3.10/dist-packages (from lime) (4.66.6)\n",
            "Requirement already satisfied: scikit-learn>=0.18 in /usr/local/lib/python3.10/dist-packages (from lime) (1.5.2)\n",
            "Requirement already satisfied: scikit-image>=0.12 in /usr/local/lib/python3.10/dist-packages (from lime) (0.24.0)\n",
            "Requirement already satisfied: altair<6,>=4.0 in /usr/local/lib/python3.10/dist-packages (from streamlit) (4.2.2)\n",
            "Requirement already satisfied: blinker<2,>=1.0.0 in /usr/local/lib/python3.10/dist-packages (from streamlit) (1.9.0)\n",
            "Requirement already satisfied: cachetools<6,>=4.0 in /usr/local/lib/python3.10/dist-packages (from streamlit) (5.5.0)\n",
            "Requirement already satisfied: click<9,>=7.0 in /usr/local/lib/python3.10/dist-packages (from streamlit) (8.1.7)\n",
            "Requirement already satisfied: packaging<25,>=20 in /usr/local/lib/python3.10/dist-packages (from streamlit) (24.2)\n",
            "Requirement already satisfied: pandas<3,>=1.4.0 in /usr/local/lib/python3.10/dist-packages (from streamlit) (2.2.2)\n",
            "Requirement already satisfied: pillow<12,>=7.1.0 in /usr/local/lib/python3.10/dist-packages (from streamlit) (11.0.0)\n",
            "Requirement already satisfied: protobuf<6,>=3.20 in /usr/local/lib/python3.10/dist-packages (from streamlit) (4.25.5)\n",
            "Requirement already satisfied: pyarrow>=7.0 in /usr/local/lib/python3.10/dist-packages (from streamlit) (17.0.0)\n",
            "Requirement already satisfied: requests<3,>=2.27 in /usr/local/lib/python3.10/dist-packages (from streamlit) (2.32.3)\n",
            "Requirement already satisfied: rich<14,>=10.14.0 in /usr/local/lib/python3.10/dist-packages (from streamlit) (13.9.4)\n",
            "Requirement already satisfied: tenacity<10,>=8.1.0 in /usr/local/lib/python3.10/dist-packages (from streamlit) (9.0.0)\n",
            "Requirement already satisfied: toml<2,>=0.10.1 in /usr/local/lib/python3.10/dist-packages (from streamlit) (0.10.2)\n",
            "Requirement already satisfied: typing-extensions<5,>=4.3.0 in /usr/local/lib/python3.10/dist-packages (from streamlit) (4.12.2)\n",
            "Requirement already satisfied: gitpython!=3.1.19,<4,>=3.0.7 in /usr/local/lib/python3.10/dist-packages (from streamlit) (3.1.43)\n",
            "Requirement already satisfied: pydeck<1,>=0.8.0b4 in /usr/local/lib/python3.10/dist-packages (from streamlit) (0.9.1)\n",
            "Requirement already satisfied: tornado<7,>=6.0.3 in /usr/local/lib/python3.10/dist-packages (from streamlit) (6.3.3)\n",
            "Requirement already satisfied: watchdog<7,>=2.1.5 in /usr/local/lib/python3.10/dist-packages (from streamlit) (6.0.0)\n",
            "Requirement already satisfied: PyYAML>=5.1 in /usr/local/lib/python3.10/dist-packages (from pyngrok) (6.0.2)\n",
            "Requirement already satisfied: cmdstanpy>=1.0.4 in /usr/local/lib/python3.10/dist-packages (from prophet) (1.2.4)\n",
            "Requirement already satisfied: holidays<1,>=0.25 in /usr/local/lib/python3.10/dist-packages (from prophet) (0.61)\n",
            "Requirement already satisfied: importlib-resources in /usr/local/lib/python3.10/dist-packages (from prophet) (6.4.5)\n",
            "Requirement already satisfied: entrypoints in /usr/local/lib/python3.10/dist-packages (from altair<6,>=4.0->streamlit) (0.4)\n",
            "Requirement already satisfied: jinja2 in /usr/local/lib/python3.10/dist-packages (from altair<6,>=4.0->streamlit) (3.1.4)\n",
            "Requirement already satisfied: jsonschema>=3.0 in /usr/local/lib/python3.10/dist-packages (from altair<6,>=4.0->streamlit) (4.23.0)\n",
            "Requirement already satisfied: toolz in /usr/local/lib/python3.10/dist-packages (from altair<6,>=4.0->streamlit) (0.12.1)\n",
            "Requirement already satisfied: stanio<2.0.0,>=0.4.0 in /usr/local/lib/python3.10/dist-packages (from cmdstanpy>=1.0.4->prophet) (0.5.1)\n",
            "Requirement already satisfied: gitdb<5,>=4.0.1 in /usr/local/lib/python3.10/dist-packages (from gitpython!=3.1.19,<4,>=3.0.7->streamlit) (4.0.11)\n",
            "Requirement already satisfied: python-dateutil in /usr/local/lib/python3.10/dist-packages (from holidays<1,>=0.25->prophet) (2.8.2)\n",
            "Requirement already satisfied: contourpy>=1.0.1 in /usr/local/lib/python3.10/dist-packages (from matplotlib->lime) (1.3.1)\n",
            "Requirement already satisfied: cycler>=0.10 in /usr/local/lib/python3.10/dist-packages (from matplotlib->lime) (0.12.1)\n",
            "Requirement already satisfied: fonttools>=4.22.0 in /usr/local/lib/python3.10/dist-packages (from matplotlib->lime) (4.55.0)\n",
            "Requirement already satisfied: kiwisolver>=1.0.1 in /usr/local/lib/python3.10/dist-packages (from matplotlib->lime) (1.4.7)\n",
            "Requirement already satisfied: pyparsing>=2.3.1 in /usr/local/lib/python3.10/dist-packages (from matplotlib->lime) (3.2.0)\n",
            "Requirement already satisfied: pytz>=2020.1 in /usr/local/lib/python3.10/dist-packages (from pandas<3,>=1.4.0->streamlit) (2024.2)\n",
            "Requirement already satisfied: tzdata>=2022.7 in /usr/local/lib/python3.10/dist-packages (from pandas<3,>=1.4.0->streamlit) (2024.2)\n",
            "Requirement already satisfied: charset-normalizer<4,>=2 in /usr/local/lib/python3.10/dist-packages (from requests<3,>=2.27->streamlit) (3.4.0)\n",
            "Requirement already satisfied: idna<4,>=2.5 in /usr/local/lib/python3.10/dist-packages (from requests<3,>=2.27->streamlit) (3.10)\n",
            "Requirement already satisfied: urllib3<3,>=1.21.1 in /usr/local/lib/python3.10/dist-packages (from requests<3,>=2.27->streamlit) (2.2.3)\n",
            "Requirement already satisfied: certifi>=2017.4.17 in /usr/local/lib/python3.10/dist-packages (from requests<3,>=2.27->streamlit) (2024.8.30)\n",
            "Requirement already satisfied: markdown-it-py>=2.2.0 in /usr/local/lib/python3.10/dist-packages (from rich<14,>=10.14.0->streamlit) (3.0.0)\n",
            "Requirement already satisfied: pygments<3.0.0,>=2.13.0 in /usr/local/lib/python3.10/dist-packages (from rich<14,>=10.14.0->streamlit) (2.18.0)\n",
            "Requirement already satisfied: networkx>=2.8 in /usr/local/lib/python3.10/dist-packages (from scikit-image>=0.12->lime) (3.4.2)\n",
            "Requirement already satisfied: imageio>=2.33 in /usr/local/lib/python3.10/dist-packages (from scikit-image>=0.12->lime) (2.36.0)\n",
            "Requirement already satisfied: tifffile>=2022.8.12 in /usr/local/lib/python3.10/dist-packages (from scikit-image>=0.12->lime) (2024.9.20)\n",
            "Requirement already satisfied: lazy-loader>=0.4 in /usr/local/lib/python3.10/dist-packages (from scikit-image>=0.12->lime) (0.4)\n",
            "Requirement already satisfied: joblib>=1.2.0 in /usr/local/lib/python3.10/dist-packages (from scikit-learn>=0.18->lime) (1.4.2)\n",
            "Requirement already satisfied: threadpoolctl>=3.1.0 in /usr/local/lib/python3.10/dist-packages (from scikit-learn>=0.18->lime) (3.5.0)\n",
            "Requirement already satisfied: smmap<6,>=3.0.1 in /usr/local/lib/python3.10/dist-packages (from gitdb<5,>=4.0.1->gitpython!=3.1.19,<4,>=3.0.7->streamlit) (5.0.1)\n",
            "Requirement already satisfied: MarkupSafe>=2.0 in /usr/local/lib/python3.10/dist-packages (from jinja2->altair<6,>=4.0->streamlit) (3.0.2)\n",
            "Requirement already satisfied: attrs>=22.2.0 in /usr/local/lib/python3.10/dist-packages (from jsonschema>=3.0->altair<6,>=4.0->streamlit) (24.2.0)\n",
            "Requirement already satisfied: jsonschema-specifications>=2023.03.6 in /usr/local/lib/python3.10/dist-packages (from jsonschema>=3.0->altair<6,>=4.0->streamlit) (2024.10.1)\n",
            "Requirement already satisfied: referencing>=0.28.4 in /usr/local/lib/python3.10/dist-packages (from jsonschema>=3.0->altair<6,>=4.0->streamlit) (0.35.1)\n",
            "Requirement already satisfied: rpds-py>=0.7.1 in /usr/local/lib/python3.10/dist-packages (from jsonschema>=3.0->altair<6,>=4.0->streamlit) (0.21.0)\n",
            "Requirement already satisfied: mdurl~=0.1 in /usr/local/lib/python3.10/dist-packages (from markdown-it-py>=2.2.0->rich<14,>=10.14.0->streamlit) (0.1.2)\n",
            "Requirement already satisfied: six>=1.5 in /usr/local/lib/python3.10/dist-packages (from python-dateutil->holidays<1,>=0.25->prophet) (1.16.0)\n"
          ]
        }
      ]
    },
    {
      "cell_type": "code",
      "source": [
        "!ngrok config add-authtoken 2pE6lGKiIXg5XMOblVighh51SNN_5At8H6Uqiyj176iMqUWtV"
      ],
      "metadata": {
        "id": "ocxlDaU0RaN1",
        "outputId": "40a9fbe6-18c5-4de3-88ef-40fd51b30758",
        "colab": {
          "base_uri": "https://localhost:8080/"
        }
      },
      "execution_count": 51,
      "outputs": [
        {
          "output_type": "stream",
          "name": "stdout",
          "text": [
            "Authtoken saved to configuration file: /root/.config/ngrok/ngrok.yml\n"
          ]
        }
      ]
    },
    {
      "cell_type": "code",
      "source": [
        "%%writefile app.py\n",
        "import pandas as pd\n",
        "import numpy as np\n",
        "import matplotlib.pyplot as plt\n",
        "import seaborn as sns\n",
        "import streamlit as st\n",
        "import shap\n",
        "import pickle\n",
        "from lime.lime_tabular import LimeTabularExplainer\n",
        "from sklearn.model_selection import train_test_split\n",
        "from sklearn.ensemble import RandomForestRegressor, RandomForestClassifier\n",
        "from sklearn.metrics import (\n",
        "    mean_squared_error, mean_absolute_error, r2_score,\n",
        "    confusion_matrix, roc_curve, auc, precision_recall_curve\n",
        ")\n",
        "from sklearn.preprocessing import StandardScaler, LabelEncoder\n",
        "from statsmodels.graphics.gofplots import qqplot\n",
        "from statsmodels.tsa.arima.model import ARIMA\n",
        "from prophet import Prophet\n",
        "\n",
        "# Streamlit Title\n",
        "st.title(\"Interactive Machine Learning Workflow Dashboard\")\n",
        "\n",
        "# Sidebar for File Upload\n",
        "st.sidebar.title(\"Upload Your Dataset\")\n",
        "uploaded_file = st.sidebar.file_uploader(\"Upload a CSV file\", type=[\"csv\"])\n",
        "st.sidebar.markdown(\"---\")\n",
        "\n",
        "# Load Dataset\n",
        "if uploaded_file is not None:\n",
        "    df = pd.read_csv(uploaded_file, encoding=\"latin1\")\n",
        "    st.sidebar.success(\"File uploaded successfully!\")\n",
        "else:\n",
        "    st.sidebar.info(\"Using default dataset: House_Listings.csv\")\n",
        "    df = pd.read_csv(\"House_Listings.csv\", encoding=\"latin1\")\n",
        "\n",
        "# Simulate a Date Column if it doesn't exist\n",
        "if \"Date\" not in df.columns:\n",
        "    df[\"Date\"] = pd.date_range(start=\"2023-01-01\", periods=len(df), freq=\"D\")\n",
        "    st.warning(\"No time series column found. Simulating a 'Date' column starting from 2023-01-01.\")\n",
        "\n",
        "# Allow sampling for large datasets\n",
        "if df.shape[0] > 10000:\n",
        "    st.warning(\"Dataset is large! Using a random sample of 10,000 rows for visualization.\")\n",
        "    df = df.sample(10000, random_state=42)\n",
        "\n",
        "# Display Dataset\n",
        "st.subheader(\"Dataset Overview\")\n",
        "st.write(df.head())\n",
        "\n",
        "# --- Step 1: EDA ---\n",
        "st.subheader(\"Exploratory Data Analysis (EDA)\")\n",
        "\n",
        "# Missing Data Visualization\n",
        "st.write(\"**Missing Data Heatmap**\")\n",
        "fig, ax = plt.subplots(figsize=(12, 8))\n",
        "sns.heatmap(df.isnull(), cbar=False, cmap=\"viridis\", ax=ax)\n",
        "st.pyplot(fig)\n",
        "\n",
        "# Correlation Matrix\n",
        "st.write(\"**Correlation Matrix**\")\n",
        "numerical_cols = df.select_dtypes(include=np.number).columns\n",
        "if \"Date\" in numerical_cols:\n",
        "    numerical_cols = numerical_cols.drop(\"Date\", errors=\"ignore\")  # Exclude 'Date'\n",
        "fig, ax = plt.subplots(figsize=(12, 8))\n",
        "sns.heatmap(df[numerical_cols].corr(), annot=True, cmap=\"coolwarm\", ax=ax)\n",
        "ax.set_title(\"Correlation Matrix\")\n",
        "ax.set_xticklabels(ax.get_xticklabels(), rotation=45, horizontalalignment='right')\n",
        "st.pyplot(fig)\n",
        "\n",
        "# --- Step 2: Preprocessing ---\n",
        "st.subheader(\"Data Preprocessing\")\n",
        "categorical_cols = df.select_dtypes(include=['object']).columns\n",
        "\n",
        "# Encoding Effects Visualization\n",
        "if st.checkbox(\"Show Encoding Effects\"):\n",
        "    for col in categorical_cols:\n",
        "        st.write(f\"**Encoding Effects for {col}**\")\n",
        "        if df[col].nunique() > 20:\n",
        "            st.write(f\"Too many unique values in **{col}**. Showing only the top 20 categories.\")\n",
        "            subset = df[col].value_counts().nlargest(20).index\n",
        "            subset_df = df[df[col].isin(subset)]\n",
        "        else:\n",
        "            subset_df = df\n",
        "\n",
        "        fig, ax = plt.subplots(figsize=(12, 8))\n",
        "        sns.countplot(x=col, data=subset_df, ax=ax, order=subset_df[col].value_counts().index)\n",
        "        ax.set_title(f\"Original Distribution of {col}\")\n",
        "        ax.set_xticklabels(ax.get_xticklabels(), rotation=45, horizontalalignment='right')\n",
        "        st.pyplot(fig)\n",
        "\n",
        "        # Encoding\n",
        "        encoder = LabelEncoder()\n",
        "        df[col] = encoder.fit_transform(df[col])\n",
        "        fig, ax = plt.subplots(figsize=(12, 8))\n",
        "        sns.histplot(df[col], bins=20, kde=False, ax=ax)\n",
        "        ax.set_title(f\"Encoded Distribution of {col}\")\n",
        "        st.pyplot(fig)\n",
        "\n",
        "# Log Transformation and Scaling\n",
        "scaler = StandardScaler()\n",
        "if st.checkbox(\"Apply Log Transformation and Scaling\"):\n",
        "    df[numerical_cols] = np.log1p(df[numerical_cols])\n",
        "    df_scaled = pd.DataFrame(scaler.fit_transform(df[numerical_cols]), columns=numerical_cols)\n",
        "    st.write(\"Log transformation and scaling applied.\")\n",
        "\n",
        "# --- Step 3: Forecasting ---\n",
        "st.subheader(\"Time Series Forecasting\")\n",
        "\n",
        "time_series_col = st.sidebar.selectbox(\"Select Time Series Column\", df.columns)\n",
        "target_column = st.sidebar.selectbox(\"Select Target Column for Forecasting\", numerical_cols)\n",
        "\n",
        "if time_series_col and target_column:\n",
        "    try:\n",
        "        df[time_series_col] = pd.to_datetime(df[time_series_col], errors='coerce')\n",
        "        if df[time_series_col].isna().sum() > 0:\n",
        "            st.error(\"Invalid time series column. Please select a valid datetime column.\")\n",
        "        else:\n",
        "            df.set_index(time_series_col, inplace=True)\n",
        "\n",
        "            # Prophet Forecasting\n",
        "            st.write(\"**Prophet Forecasting**\")\n",
        "            prophet_df = df[[target_column]].reset_index().rename(columns={time_series_col: 'ds', target_column: 'y'})\n",
        "            prophet_model = Prophet()\n",
        "            prophet_model.fit(prophet_df)\n",
        "            future = prophet_model.make_future_dataframe(periods=10)\n",
        "            forecast = prophet_model.predict(future)\n",
        "            st.write(\"Forecasted Values (Prophet):\")\n",
        "            st.write(forecast[['ds', 'yhat', 'yhat_lower', 'yhat_upper']].tail())\n",
        "\n",
        "            fig = prophet_model.plot(forecast)\n",
        "            st.pyplot(fig)\n",
        "    except Exception as e:\n",
        "        st.error(f\"Error in forecasting: {e}\")\n",
        "\n",
        "# --- Step 4: Model Evaluation (Classification) ---\n",
        "st.subheader(\"Classification Metrics\")\n",
        "\n",
        "classification_target = st.sidebar.selectbox(\"Select Target Column for Classification\", df.columns)\n",
        "if classification_target and st.checkbox(\"Train Classification Model\"):\n",
        "    feature_columns = st.sidebar.multiselect(\n",
        "        \"Select Features for Classification\", [col for col in df.columns if col != classification_target]\n",
        "    )\n",
        "    if feature_columns:\n",
        "        X = df[feature_columns]\n",
        "        y = df[classification_target]\n",
        "\n",
        "        X_train, X_test, y_train, y_test = train_test_split(X, y, test_size=0.2, random_state=42)\n",
        "        clf = RandomForestClassifier(random_state=42)\n",
        "        clf.fit(X_train, y_train)\n",
        "        y_pred = clf.predict(X_test)\n",
        "\n",
        "        # Confusion Matrix\n",
        "        cm = confusion_matrix(y_test, y_pred)\n",
        "        st.write(\"**Confusion Matrix**\")\n",
        "        st.write(cm)\n",
        "\n",
        "        # ROC Curve\n",
        "        y_prob = clf.predict_proba(X_test)[:, 1]\n",
        "        fpr, tpr, _ = roc_curve(y_test, y_prob)\n",
        "        roc_auc = auc(fpr, tpr)\n",
        "        st.write(f\"**AUC-ROC Curve (AUC = {roc_auc:.2f})**\")\n",
        "        fig, ax = plt.subplots()\n",
        "        ax.plot(fpr, tpr, label=f\"ROC Curve (AUC = {roc_auc:.2f})\")\n",
        "        ax.plot([0, 1], [0, 1], linestyle=\"--\", color=\"gray\")\n",
        "        ax.set_title(\"ROC Curve\")\n",
        "        ax.set_xlabel(\"False Positive Rate\")\n",
        "        ax.set_ylabel(\"True Positive Rate\")\n",
        "        ax.legend()\n",
        "        st.pyplot(fig)\n",
        "\n",
        "        # Precision-Recall Curve\n",
        "        precision, recall, _ = precision_recall_curve(y_test, y_prob)\n",
        "        st.write(\"**Precision-Recall Curve**\")\n",
        "        fig, ax = plt.subplots()\n",
        "        ax.plot(recall, precision)\n",
        "        ax.set_title(\"Precision-Recall Curve\")\n",
        "        ax.set_xlabel(\"Recall\")\n",
        "        ax.set_ylabel(\"Precision\")\n",
        "        st.pyplot(fig)\n",
        "\n",
        "# --- Step 5: Regression Diagnostics ---\n",
        "st.subheader(\"Regression Diagnostics\")\n",
        "\n",
        "if target_column and feature_columns:\n",
        "    X = df[feature_columns]\n",
        "    y = df[target_column]\n",
        "\n",
        "    X_train, X_test, y_train, y_test = train_test_split(X, y, test_size=0.2, random_state=42)\n",
        "    model = RandomForestRegressor(random_state=42)\n",
        "    model.fit(X_train, y_train)\n",
        "    y_pred = model.predict(X_test)\n",
        "\n",
        "    # Residual Plot\n",
        "    st.write(\"**Residuals vs Predicted Plot**\")\n",
        "    residuals = y_test - y_pred\n",
        "    fig, ax = plt.subplots()\n",
        "    sns.scatterplot(x=y_pred, y=residuals, ax=ax)\n",
        "    ax.axhline(0, linestyle=\"--\", color=\"red\")\n",
        "    ax.set_xlabel(\"Predicted Values\")\n",
        "    ax.set_ylabel(\"Residuals\")\n",
        "    ax.set_title(\"Residuals vs Predicted Values\")\n",
        "    st.pyplot(fig)\n",
        "\n",
        "    # Q-Q Plot\n",
        "    st.write(\"**Q-Q Plot**\")\n",
        "    fig = qqplot(residuals, line='s')\n",
        "    st.pyplot(fig)\n",
        "\n",
        "\n",
        "# Expose Streamlit App\n",
        "import streamlit as st\n",
        "st.title(\"Streamlit on Colab!\")\n",
        "st.write(\"This is a test Streamlit app running on Google Colab.\")"
      ],
      "metadata": {
        "id": "PRGUYSu0N5b8",
        "colab": {
          "base_uri": "https://localhost:8080/"
        },
        "outputId": "a938e269-38a0-4ffb-9852-5fecfca22b95"
      },
      "execution_count": 52,
      "outputs": [
        {
          "output_type": "stream",
          "name": "stdout",
          "text": [
            "Overwriting app.py\n"
          ]
        }
      ]
    },
    {
      "cell_type": "code",
      "source": [
        "import os\n",
        "from pyngrok import ngrok\n",
        "\n",
        "# Start Streamlit in the background\n",
        "os.system(\"streamlit run app.py &\")\n",
        "\n",
        "# Expose the Streamlit app using pyngrok\n",
        "public_url = ngrok.connect(8501)\n",
        "print(f\"Streamlit is running on: {public_url}\")"
      ],
      "metadata": {
        "colab": {
          "base_uri": "https://localhost:8080/"
        },
        "id": "TmQPudxr4FcU",
        "outputId": "5983816f-19b4-416c-dc89-a71e2443d3a8"
      },
      "execution_count": 53,
      "outputs": [
        {
          "output_type": "stream",
          "name": "stdout",
          "text": [
            "Streamlit is running on: NgrokTunnel: \"https://238a-35-239-111-165.ngrok-free.app\" -> \"http://localhost:8501\"\n"
          ]
        }
      ]
    },
    {
      "cell_type": "code",
      "source": [
        "!streamlit run app.py &"
      ],
      "metadata": {
        "colab": {
          "base_uri": "https://localhost:8080/"
        },
        "id": "z3vTNX6oTD6s",
        "outputId": "58de514d-42c8-4481-eb09-14bd30aec46d"
      },
      "execution_count": null,
      "outputs": [
        {
          "output_type": "stream",
          "name": "stdout",
          "text": [
            "\n",
            "Collecting usage statistics. To deactivate, set browser.gatherUsageStats to false.\n",
            "\u001b[0m\n",
            "\u001b[0m\n",
            "\u001b[34m\u001b[1m  You can now view your Streamlit app in your browser.\u001b[0m\n",
            "\u001b[0m\n",
            "\u001b[34m  Local URL: \u001b[0m\u001b[1mhttp://localhost:8502\u001b[0m\n",
            "\u001b[34m  Network URL: \u001b[0m\u001b[1mhttp://172.28.0.12:8502\u001b[0m\n",
            "\u001b[34m  External URL: \u001b[0m\u001b[1mhttp://35.239.111.165:8502\u001b[0m\n",
            "\u001b[0m\n"
          ]
        }
      ]
    },
    {
      "cell_type": "code",
      "source": [],
      "metadata": {
        "id": "OLuoixj_N5ef"
      },
      "execution_count": 19,
      "outputs": []
    }
  ]
}